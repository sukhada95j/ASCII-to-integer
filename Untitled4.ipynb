{
  "nbformat": 4,
  "nbformat_minor": 0,
  "metadata": {
    "colab": {
      "provenance": []
    },
    "kernelspec": {
      "name": "python3",
      "display_name": "Python 3"
    },
    "language_info": {
      "name": "python"
    }
  },
  "cells": [
    {
      "cell_type": "code",
      "execution_count": 2,
      "metadata": {
        "colab": {
          "base_uri": "https://localhost:8080/"
        },
        "id": "Tgu5aBpC5GF-",
        "outputId": "3eacdcab-d0b0-420d-a5c3-29f06d9c3a9d"
      },
      "outputs": [
        {
          "output_type": "execute_result",
          "data": {
            "text/plain": [
              "750"
            ]
          },
          "metadata": {},
          "execution_count": 2
        }
      ],
      "source": [
        "def uni_total(s):\n",
        "    return sum([ord(char) for char in s])\n",
        "uni_total(\"shariva\")\n"
      ]
    }
  ]
}